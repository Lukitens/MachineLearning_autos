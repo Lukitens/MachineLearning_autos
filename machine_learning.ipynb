{
 "cells": [
  {
   "cell_type": "code",
   "execution_count": 50,
   "metadata": {},
   "outputs": [],
   "source": [
    "#Importamos las librerias\n",
    "import pandas as pd\n",
    "import numpy as np\n",
    "import warnings\n",
    "\n",
    "warnings.simplefilter(\"ignore\")"
   ]
  },
  {
   "cell_type": "code",
   "execution_count": 51,
   "metadata": {},
   "outputs": [
    {
     "data": {
      "text/html": [
       "<div>\n",
       "<style scoped>\n",
       "    .dataframe tbody tr th:only-of-type {\n",
       "        vertical-align: middle;\n",
       "    }\n",
       "\n",
       "    .dataframe tbody tr th {\n",
       "        vertical-align: top;\n",
       "    }\n",
       "\n",
       "    .dataframe thead th {\n",
       "        text-align: right;\n",
       "    }\n",
       "</style>\n",
       "<table border=\"1\" class=\"dataframe\">\n",
       "  <thead>\n",
       "    <tr style=\"text-align: right;\">\n",
       "      <th></th>\n",
       "      <th>symboling</th>\n",
       "      <th>fueltype</th>\n",
       "      <th>aspiration</th>\n",
       "      <th>doornumber</th>\n",
       "      <th>carbody</th>\n",
       "      <th>drivewheel</th>\n",
       "      <th>enginelocation</th>\n",
       "      <th>wheelbase</th>\n",
       "      <th>carlength</th>\n",
       "      <th>carwidth</th>\n",
       "      <th>...</th>\n",
       "      <th>fuelsystem</th>\n",
       "      <th>stroke</th>\n",
       "      <th>compressionratio</th>\n",
       "      <th>horsepower</th>\n",
       "      <th>peakrpm</th>\n",
       "      <th>citympg</th>\n",
       "      <th>highwaympg</th>\n",
       "      <th>price</th>\n",
       "      <th>marca</th>\n",
       "      <th>gama_alta</th>\n",
       "    </tr>\n",
       "  </thead>\n",
       "  <tbody>\n",
       "    <tr>\n",
       "      <th>0</th>\n",
       "      <td>3</td>\n",
       "      <td>0</td>\n",
       "      <td>0</td>\n",
       "      <td>2</td>\n",
       "      <td>0</td>\n",
       "      <td>2</td>\n",
       "      <td>0</td>\n",
       "      <td>88.6</td>\n",
       "      <td>168.8</td>\n",
       "      <td>64.1</td>\n",
       "      <td>...</td>\n",
       "      <td>5</td>\n",
       "      <td>2.68</td>\n",
       "      <td>9.0</td>\n",
       "      <td>111</td>\n",
       "      <td>5000</td>\n",
       "      <td>21</td>\n",
       "      <td>27</td>\n",
       "      <td>13495.0</td>\n",
       "      <td>0</td>\n",
       "      <td>1</td>\n",
       "    </tr>\n",
       "    <tr>\n",
       "      <th>1</th>\n",
       "      <td>3</td>\n",
       "      <td>0</td>\n",
       "      <td>0</td>\n",
       "      <td>2</td>\n",
       "      <td>0</td>\n",
       "      <td>2</td>\n",
       "      <td>0</td>\n",
       "      <td>88.6</td>\n",
       "      <td>168.8</td>\n",
       "      <td>64.1</td>\n",
       "      <td>...</td>\n",
       "      <td>5</td>\n",
       "      <td>2.68</td>\n",
       "      <td>9.0</td>\n",
       "      <td>111</td>\n",
       "      <td>5000</td>\n",
       "      <td>21</td>\n",
       "      <td>27</td>\n",
       "      <td>16500.0</td>\n",
       "      <td>0</td>\n",
       "      <td>1</td>\n",
       "    </tr>\n",
       "    <tr>\n",
       "      <th>2</th>\n",
       "      <td>1</td>\n",
       "      <td>0</td>\n",
       "      <td>0</td>\n",
       "      <td>2</td>\n",
       "      <td>2</td>\n",
       "      <td>2</td>\n",
       "      <td>0</td>\n",
       "      <td>94.5</td>\n",
       "      <td>171.2</td>\n",
       "      <td>65.5</td>\n",
       "      <td>...</td>\n",
       "      <td>5</td>\n",
       "      <td>3.47</td>\n",
       "      <td>9.0</td>\n",
       "      <td>154</td>\n",
       "      <td>5000</td>\n",
       "      <td>19</td>\n",
       "      <td>26</td>\n",
       "      <td>16500.0</td>\n",
       "      <td>0</td>\n",
       "      <td>1</td>\n",
       "    </tr>\n",
       "    <tr>\n",
       "      <th>3</th>\n",
       "      <td>2</td>\n",
       "      <td>0</td>\n",
       "      <td>0</td>\n",
       "      <td>4</td>\n",
       "      <td>3</td>\n",
       "      <td>1</td>\n",
       "      <td>0</td>\n",
       "      <td>99.8</td>\n",
       "      <td>176.6</td>\n",
       "      <td>66.2</td>\n",
       "      <td>...</td>\n",
       "      <td>5</td>\n",
       "      <td>3.40</td>\n",
       "      <td>10.0</td>\n",
       "      <td>102</td>\n",
       "      <td>5500</td>\n",
       "      <td>24</td>\n",
       "      <td>30</td>\n",
       "      <td>13950.0</td>\n",
       "      <td>1</td>\n",
       "      <td>1</td>\n",
       "    </tr>\n",
       "    <tr>\n",
       "      <th>4</th>\n",
       "      <td>2</td>\n",
       "      <td>0</td>\n",
       "      <td>0</td>\n",
       "      <td>4</td>\n",
       "      <td>3</td>\n",
       "      <td>0</td>\n",
       "      <td>0</td>\n",
       "      <td>99.4</td>\n",
       "      <td>176.6</td>\n",
       "      <td>66.4</td>\n",
       "      <td>...</td>\n",
       "      <td>5</td>\n",
       "      <td>3.40</td>\n",
       "      <td>8.0</td>\n",
       "      <td>115</td>\n",
       "      <td>5500</td>\n",
       "      <td>18</td>\n",
       "      <td>22</td>\n",
       "      <td>17450.0</td>\n",
       "      <td>1</td>\n",
       "      <td>1</td>\n",
       "    </tr>\n",
       "  </tbody>\n",
       "</table>\n",
       "<p>5 rows × 25 columns</p>\n",
       "</div>"
      ],
      "text/plain": [
       "   symboling  fueltype  aspiration  doornumber  carbody  drivewheel  \\\n",
       "0          3         0           0           2        0           2   \n",
       "1          3         0           0           2        0           2   \n",
       "2          1         0           0           2        2           2   \n",
       "3          2         0           0           4        3           1   \n",
       "4          2         0           0           4        3           0   \n",
       "\n",
       "   enginelocation  wheelbase  carlength  carwidth  ...  fuelsystem  stroke  \\\n",
       "0               0       88.6      168.8      64.1  ...           5    2.68   \n",
       "1               0       88.6      168.8      64.1  ...           5    2.68   \n",
       "2               0       94.5      171.2      65.5  ...           5    3.47   \n",
       "3               0       99.8      176.6      66.2  ...           5    3.40   \n",
       "4               0       99.4      176.6      66.4  ...           5    3.40   \n",
       "\n",
       "   compressionratio  horsepower  peakrpm  citympg  highwaympg    price  marca  \\\n",
       "0               9.0         111     5000       21          27  13495.0      0   \n",
       "1               9.0         111     5000       21          27  16500.0      0   \n",
       "2               9.0         154     5000       19          26  16500.0      0   \n",
       "3              10.0         102     5500       24          30  13950.0      1   \n",
       "4               8.0         115     5500       18          22  17450.0      1   \n",
       "\n",
       "   gama_alta  \n",
       "0          1  \n",
       "1          1  \n",
       "2          1  \n",
       "3          1  \n",
       "4          1  \n",
       "\n",
       "[5 rows x 25 columns]"
      ]
     },
     "execution_count": 51,
     "metadata": {},
     "output_type": "execute_result"
    }
   ],
   "source": [
    "#Leemos el csv\n",
    "df = pd.read_csv(\"datos_entrenamiento.csv\")\n",
    "df.head()"
   ]
  },
  {
   "cell_type": "markdown",
   "metadata": {},
   "source": [
    "# Regresión"
   ]
  },
  {
   "cell_type": "markdown",
   "metadata": {},
   "source": [
    "Seleccionamos las columnas y creamos el modelo de regresión lineal"
   ]
  },
  {
   "cell_type": "code",
   "execution_count": 52,
   "metadata": {},
   "outputs": [],
   "source": [
    "#Seleccionamos las columnas para descubrir la variable objetivo\n",
    "x_regresion = df[[\"symboling\", \"fueltype\", \"aspiration\", \"doornumber\", \"carbody\", \"drivewheel\", \"enginelocation\",\n",
    "            \"wheelbase\", \"carlength\", \"carwidth\", \"carheight\", \"curbweight\", \"enginetype\", \"cylindernumber\",\n",
    "            \"enginesize\", \"fuelsystem\", \"stroke\", \"compressionratio\", \"horsepower\", \"peakrpm\",\n",
    "            \"citympg\", \"highwaympg\", \"marca\", \"gama_alta\"]]\n",
    "\n",
    "#Seleccionamos la variable objetivo\n",
    "y_regresion = df[[\"price\"]]\n",
    "\n",
    "#Importamos las librerias de regresión lineal y el train_test_split para poder dividir en datos de prueba y entrenamiento\n",
    "from sklearn.linear_model import LinearRegression\n",
    "from sklearn.model_selection import train_test_split\n",
    "\n",
    "#Dividimos los datos\n",
    "x_regresion_train, x_regresion_test, y_regresion_train, y_regresion_test = train_test_split(x_regresion, y_regresion, test_size= 0.2, random_state=123)\n",
    "\n",
    "#Iniciamos la regresion lineal\n",
    "regresion_lineal = LinearRegression()\n",
    "\n",
    "#Entrenamos el modelo\n",
    "regresion_lineal.fit(x_regresion_train, y_regresion_train)\n",
    "\n",
    "#Realizamos las prediccions\n",
    "predicciones = regresion_lineal.predict(x_regresion_test)"
   ]
  },
  {
   "cell_type": "code",
   "execution_count": 53,
   "metadata": {},
   "outputs": [
    {
     "name": "stdout",
     "output_type": "stream",
     "text": [
      "R2:  0.8496074393528552\n",
      "mean_absolute_error:  1858.555916855394\n",
      "median_absolute_error:  1578.6292973610834\n"
     ]
    }
   ],
   "source": [
    "#Importamos las metricas para evaluar\n",
    "from sklearn.metrics import r2_score\n",
    "from sklearn.metrics import mean_absolute_error\n",
    "from sklearn.metrics import median_absolute_error\n",
    "\n",
    "# Mostramos las evaluaciones\n",
    "print(\"R2: \",r2_score(y_regresion_test, predicciones))\n",
    "print(\"mean_absolute_error: \",mean_absolute_error(y_regresion_test, predicciones))\n",
    "print(\"median_absolute_error: \",median_absolute_error(y_regresion_test, predicciones))"
   ]
  },
  {
   "cell_type": "code",
   "execution_count": 54,
   "metadata": {},
   "outputs": [],
   "source": [
    "#Creamos una funcion para entrenar y evaluar los modelos para facilitar y no hard codear\n",
    "def entrenar_y_evaluar_r(x_train, y_train, x_test, y_test, modelo_seleccionado):\n",
    "\n",
    "    #Iniciamos el modelo que queremos\n",
    "    modelo = modelo_seleccionado\n",
    "\n",
    "    #Lo entrenamos\n",
    "    modelo.fit(x_train, y_train)\n",
    "\n",
    "    #Realizamos las predicciones\n",
    "    preds = modelo.predict(x_test)\n",
    "\n",
    "    #Hacemos el return de las evaluaciones\n",
    "    return (\"R2: \",r2_score(y_test, preds),\n",
    "            \"mean_absolute_error: \",mean_absolute_error(y_test, preds),\n",
    "            \"median_absolute_error: \",median_absolute_error(y_test, preds))"
   ]
  },
  {
   "cell_type": "markdown",
   "metadata": {},
   "source": [
    "Regresión lineal"
   ]
  },
  {
   "cell_type": "code",
   "execution_count": 55,
   "metadata": {},
   "outputs": [
    {
     "data": {
      "text/plain": [
       "('R2: ',\n",
       " 0.8496074393528552,\n",
       " 'mean_absolute_error: ',\n",
       " 1858.555916855394,\n",
       " 'median_absolute_error: ',\n",
       " 1578.6292973610834)"
      ]
     },
     "execution_count": 55,
     "metadata": {},
     "output_type": "execute_result"
    }
   ],
   "source": [
    "entrenar_y_evaluar_r(x_regresion_train, y_regresion_train, x_regresion_test, y_regresion_test, LinearRegression())"
   ]
  },
  {
   "cell_type": "markdown",
   "metadata": {},
   "source": [
    "Arbol de decision"
   ]
  },
  {
   "cell_type": "code",
   "execution_count": 56,
   "metadata": {},
   "outputs": [
    {
     "data": {
      "text/plain": [
       "('R2: ',\n",
       " 0.898008216477679,\n",
       " 'mean_absolute_error: ',\n",
       " 1493.0121951219512,\n",
       " 'median_absolute_error: ',\n",
       " 1010.0)"
      ]
     },
     "execution_count": 56,
     "metadata": {},
     "output_type": "execute_result"
    }
   ],
   "source": [
    "from sklearn.tree import DecisionTreeRegressor\n",
    "entrenar_y_evaluar_r(x_regresion_train, y_regresion_train, x_regresion_test, y_regresion_test, DecisionTreeRegressor())"
   ]
  },
  {
   "cell_type": "markdown",
   "metadata": {},
   "source": [
    "Random forest"
   ]
  },
  {
   "cell_type": "code",
   "execution_count": 57,
   "metadata": {},
   "outputs": [
    {
     "data": {
      "text/plain": [
       "('R2: ',\n",
       " 0.9557566611440776,\n",
       " 'mean_absolute_error: ',\n",
       " 984.0533127642275,\n",
       " 'median_absolute_error: ',\n",
       " 756.2399999999998)"
      ]
     },
     "execution_count": 57,
     "metadata": {},
     "output_type": "execute_result"
    }
   ],
   "source": [
    "from sklearn.ensemble import RandomForestRegressor\n",
    "entrenar_y_evaluar_r(x_regresion_train, y_regresion_train, x_regresion_test, y_regresion_test, RandomForestRegressor())"
   ]
  },
  {
   "cell_type": "markdown",
   "metadata": {},
   "source": [
    "KNN vecinos"
   ]
  },
  {
   "cell_type": "code",
   "execution_count": 58,
   "metadata": {},
   "outputs": [
    {
     "data": {
      "text/plain": [
       "('R2: ',\n",
       " 0.8931398620119303,\n",
       " 'mean_absolute_error: ',\n",
       " 1443.8829268292682,\n",
       " 'median_absolute_error: ',\n",
       " 1048.1999999999998)"
      ]
     },
     "execution_count": 58,
     "metadata": {},
     "output_type": "execute_result"
    }
   ],
   "source": [
    "from sklearn.neighbors import KNeighborsRegressor\n",
    "entrenar_y_evaluar_r(x_regresion_train, y_regresion_train, x_regresion_test, y_regresion_test, KNeighborsRegressor())"
   ]
  },
  {
   "cell_type": "markdown",
   "metadata": {},
   "source": [
    "# Clasificación"
   ]
  },
  {
   "cell_type": "markdown",
   "metadata": {},
   "source": [
    "Seleccionamos los datos a usar y los dividimos"
   ]
  },
  {
   "cell_type": "code",
   "execution_count": 59,
   "metadata": {},
   "outputs": [],
   "source": [
    "#Seleccionamos las columnas para descubrir la variable objetivo\n",
    "x_clasificacion = df[[\"symboling\", \"fueltype\", \"aspiration\", \"doornumber\", \"carbody\", \"drivewheel\", \"enginelocation\",\n",
    "            \"wheelbase\", \"carlength\", \"carwidth\", \"carheight\", \"curbweight\", \"enginetype\", \"cylindernumber\",\n",
    "            \"enginesize\", \"fuelsystem\", \"stroke\", \"compressionratio\", \"horsepower\", \"peakrpm\",\n",
    "            \"citympg\", \"highwaympg\", \"marca\"]]\n",
    "\n",
    "#Seleccionamos la variable objetivo\n",
    "y_clasificacion = df[[\"gama_alta\"]]\n",
    "\n",
    "#Dividimos los datos\n",
    "x_clasificacion_train, x_clasificacion_test, y_clasificacion_train, y_clasificacion_test = train_test_split(x_clasificacion, y_clasificacion, test_size= 0.2, random_state=123)"
   ]
  },
  {
   "cell_type": "code",
   "execution_count": 60,
   "metadata": {},
   "outputs": [],
   "source": [
    "from sklearn.metrics._classification import classification_report\n",
    "\n",
    "def entrenar_y_evaluar_c(x_train, y_train, x_test, y_test, modelo_seleccionado):\n",
    "\n",
    "    #Iniciamos el modelo que queremos\n",
    "    modelo = modelo_seleccionado\n",
    "\n",
    "    #Lo entrenamos\n",
    "    modelo.fit(x_train, y_train)\n",
    "\n",
    "    #Realizamos las predicciones\n",
    "    preds = modelo.predict(x_test)\n",
    "\n",
    "    #Hacemos el return de las evaluaciones\n",
    "    return (print(classification_report(y_test, preds)))"
   ]
  },
  {
   "cell_type": "markdown",
   "metadata": {},
   "source": [
    "Regresión logistica"
   ]
  },
  {
   "cell_type": "code",
   "execution_count": 61,
   "metadata": {},
   "outputs": [
    {
     "name": "stdout",
     "output_type": "stream",
     "text": [
      "              precision    recall  f1-score   support\n",
      "\n",
      "           0       0.86      0.93      0.89        27\n",
      "           1       0.83      0.71      0.77        14\n",
      "\n",
      "    accuracy                           0.85        41\n",
      "   macro avg       0.85      0.82      0.83        41\n",
      "weighted avg       0.85      0.85      0.85        41\n",
      "\n"
     ]
    }
   ],
   "source": [
    "from sklearn.linear_model import LogisticRegression\n",
    "entrenar_y_evaluar_c(x_clasificacion_train, y_clasificacion_train, x_clasificacion_test, y_clasificacion_test, LogisticRegression())"
   ]
  },
  {
   "cell_type": "markdown",
   "metadata": {},
   "source": [
    "Arbol de decision"
   ]
  },
  {
   "cell_type": "code",
   "execution_count": 62,
   "metadata": {},
   "outputs": [
    {
     "name": "stdout",
     "output_type": "stream",
     "text": [
      "              precision    recall  f1-score   support\n",
      "\n",
      "           0       0.84      0.96      0.90        27\n",
      "           1       0.90      0.64      0.75        14\n",
      "\n",
      "    accuracy                           0.85        41\n",
      "   macro avg       0.87      0.80      0.82        41\n",
      "weighted avg       0.86      0.85      0.85        41\n",
      "\n"
     ]
    }
   ],
   "source": [
    "from sklearn.tree import DecisionTreeClassifier\n",
    "entrenar_y_evaluar_c(x_clasificacion_train, y_clasificacion_train, x_clasificacion_test, y_clasificacion_test, DecisionTreeClassifier())"
   ]
  },
  {
   "cell_type": "markdown",
   "metadata": {},
   "source": [
    "KNN"
   ]
  },
  {
   "cell_type": "code",
   "execution_count": 63,
   "metadata": {},
   "outputs": [
    {
     "name": "stdout",
     "output_type": "stream",
     "text": [
      "              precision    recall  f1-score   support\n",
      "\n",
      "           0       0.83      0.93      0.88        27\n",
      "           1       0.82      0.64      0.72        14\n",
      "\n",
      "    accuracy                           0.83        41\n",
      "   macro avg       0.83      0.78      0.80        41\n",
      "weighted avg       0.83      0.83      0.82        41\n",
      "\n"
     ]
    }
   ],
   "source": [
    "from sklearn.neighbors import KNeighborsClassifier\n",
    "entrenar_y_evaluar_c(x_clasificacion_train, y_clasificacion_train, x_clasificacion_test, y_clasificacion_test, KNeighborsClassifier())"
   ]
  },
  {
   "cell_type": "markdown",
   "metadata": {},
   "source": [
    "Random forest"
   ]
  },
  {
   "cell_type": "code",
   "execution_count": 65,
   "metadata": {},
   "outputs": [
    {
     "name": "stdout",
     "output_type": "stream",
     "text": [
      "              precision    recall  f1-score   support\n",
      "\n",
      "           0       0.90      0.96      0.93        27\n",
      "           1       0.92      0.79      0.85        14\n",
      "\n",
      "    accuracy                           0.90        41\n",
      "   macro avg       0.91      0.87      0.89        41\n",
      "weighted avg       0.90      0.90      0.90        41\n",
      "\n"
     ]
    }
   ],
   "source": [
    "from sklearn.ensemble import RandomForestClassifier\n",
    "entrenar_y_evaluar_c(x_clasificacion_train, y_clasificacion_train, x_clasificacion_test, y_clasificacion_test, RandomForestClassifier())"
   ]
  },
  {
   "cell_type": "markdown",
   "metadata": {},
   "source": [
    "## Vemos que para ambos modelos la mejor opción es utilizar randomforest como modelo de clasificación y regresión"
   ]
  }
 ],
 "metadata": {
  "kernelspec": {
   "display_name": "Python 3",
   "language": "python",
   "name": "python3"
  },
  "language_info": {
   "codemirror_mode": {
    "name": "ipython",
    "version": 3
   },
   "file_extension": ".py",
   "mimetype": "text/x-python",
   "name": "python",
   "nbconvert_exporter": "python",
   "pygments_lexer": "ipython3",
   "version": "3.11.4"
  }
 },
 "nbformat": 4,
 "nbformat_minor": 2
}
